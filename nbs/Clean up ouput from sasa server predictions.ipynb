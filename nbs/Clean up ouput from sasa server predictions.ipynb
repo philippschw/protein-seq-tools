{
 "cells": [
  {
   "cell_type": "code",
   "execution_count": null,
   "id": "3b96b1c5",
   "metadata": {},
   "outputs": [],
   "source": [
    "import pandas as pd\n",
    "from glob import glob\n",
    "\n",
    "def clean_df(df_path):\n",
    "\n",
    "    cols = ['<td><pre>', 'Residue', 'Total', 'Apolar', 'Backbone', 'Sidechain', 'Ratio(%)', 'In/Out</pre></td>']\n",
    "\n",
    "    df = pd.read_csv(df_path, skiprows=list(range(0, 16)),\n",
    "                     delim_whitespace=True, error_bad_lines=False).reset_index(drop=True)\n",
    "\n",
    "    # is current value None? (False -> 0; True -> 1)\n",
    "    df['empty?'] = df['Total'].isna()\n",
    "\n",
    "    # calculate cumulative sum; will be >= 0 at/after FIRST bad value\n",
    "    df['accum_empty'] = df['empty?'].cumsum()\n",
    "\n",
    "    # boolean mask, for update\n",
    "    mask = df['accum_empty'] == 0\n",
    "\n",
    "    df = df[mask]\n",
    "\n",
    "    df = df.rename(columns={'<td><pre>': 'Residue_name', \n",
    "                      'In/Out</pre></td>': 'In/Out', \n",
    "                           'Ratio(%)': 'Ratio'\n",
    "                           })\n",
    "\n",
    "    df['In/Out'] =df['In/Out'].map(lambda x: x.replace('</pre></td>', ''))\n",
    "\n",
    "    df = df.drop(columns=['empty?', 'accum_empty'])\n",
    "\n",
    "    df.to_csv(df_path, index=False)\n",
    "    \n"
   ]
  },
  {
   "cell_type": "code",
   "execution_count": null,
   "id": "92066216",
   "metadata": {},
   "outputs": [],
   "source": [
    "fpath = \"/Users/philippschwarz/Documents/BIXInitiatives/BIotherapeutics/input/cdp-cdna-display-proteolysis/pdb\""
   ]
  },
  {
   "cell_type": "code",
   "execution_count": null,
   "id": "a6162b47",
   "metadata": {},
   "outputs": [],
   "source": [
    "glob(f'{fpath}/*.txt')"
   ]
  },
  {
   "cell_type": "code",
   "execution_count": null,
   "id": "464891cf",
   "metadata": {},
   "outputs": [],
   "source": [
    "for df_path in glob(f'{fpath}/*.txt'):\n",
    "    try:\n",
    "        clean_df(df_path)\n",
    "    except:\n",
    "        print (df_path)\n"
   ]
  },
  {
   "cell_type": "code",
   "execution_count": null,
   "id": "c0787da3",
   "metadata": {},
   "outputs": [],
   "source": []
  }
 ],
 "metadata": {
  "hide_input": false,
  "kernelspec": {
   "display_name": "Python 3.7.8 ('base')",
   "language": "python",
   "name": "python3"
  },
  "language_info": {
   "codemirror_mode": {
    "name": "ipython",
    "version": 3
   },
   "file_extension": ".py",
   "mimetype": "text/x-python",
   "name": "python",
   "nbconvert_exporter": "python",
   "pygments_lexer": "ipython3",
   "version": "3.7.8"
  },
  "vscode": {
   "interpreter": {
    "hash": "40d3a090f54c6569ab1632332b64b2c03c39dcf918b08424e98f38b5ae0af88f"
   }
  }
 },
 "nbformat": 4,
 "nbformat_minor": 5
}
