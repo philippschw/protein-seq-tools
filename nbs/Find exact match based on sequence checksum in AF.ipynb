{
 "cells": [
  {
   "cell_type": "code",
   "execution_count": null,
   "id": "7fe43b7d",
   "metadata": {
    "papermill": {
     "duration": 13.896321,
     "end_time": "2022-12-02T17:25:51.691067",
     "exception": false,
     "start_time": "2022-12-02T17:25:37.794746",
     "status": "completed"
    },
    "tags": []
   },
   "outputs": [],
   "source": [
    "!pip install crc64iso"
   ]
  },
  {
   "cell_type": "code",
   "execution_count": null,
   "id": "3a10a2d2",
   "metadata": {
    "papermill": {
     "duration": 0.022941,
     "end_time": "2022-12-02T17:25:51.717862",
     "exception": false,
     "start_time": "2022-12-02T17:25:51.694921",
     "status": "completed"
    },
    "tags": []
   },
   "outputs": [],
   "source": [
    "from crc64iso import crc64iso\n",
    "import pandas as pd\n",
    "from pathlib import Path"
   ]
  },
  {
   "cell_type": "code",
   "execution_count": null,
   "id": "ebfc68a5",
   "metadata": {
    "_cell_guid": "b1076dfc-b9ad-4769-8c92-a6c4dae69d19",
    "_uuid": "8f2839f25d086af736a60e9eeb907d3b93b6e0e5",
    "papermill": {
     "duration": 0.51947,
     "end_time": "2022-12-02T17:25:52.241303",
     "exception": false,
     "start_time": "2022-12-02T17:25:51.721833",
     "status": "completed"
    },
    "tags": []
   },
   "outputs": [],
   "source": [
    "fireprot_path = Path('/kaggle/input/fireprot-external-dataset')\n",
    "fireprot = pd.read_csv(fireprot_path/'csv/fire.csv')\n",
    "fireprot = fireprot[fireprot.pdb_id_2.isnull()]\n",
    "\n",
    "firecols = ['pdb_path_1', 'wildtype', 'position', 'mutation', 'ddG',\n",
    "            'wildtype_sequence', 'mutant_sequence', \n",
    "            'dTm', \n",
    "           ]\n",
    "\n",
    "fireprot = fireprot[firecols]\n",
    "\n",
    "fireprot = fireprot.rename(columns={'wildtype_sequence': 'sequence',\n",
    "                         'mutant_sequence': 'mutant_seq',\n",
    "                         'pdb_path_1': 'PDB'})\n",
    "\n",
    "fireprot['PDB'] = fireprot['PDB'].map(lambda x: Path(x).name)"
   ]
  },
  {
   "cell_type": "code",
   "execution_count": null,
   "id": "ee8209df",
   "metadata": {
    "papermill": {
     "duration": 0.068194,
     "end_time": "2022-12-02T17:25:52.313155",
     "exception": false,
     "start_time": "2022-12-02T17:25:52.244961",
     "status": "completed"
    },
    "tags": []
   },
   "outputs": [],
   "source": [
    "crc64s = \"','\".join(pd.Series(fireprot.sequence.unique()).apply(lambda v: crc64iso.crc64(str(v))))\n",
    "sql = f\"\"\"\n",
    "SELECT\n",
    "  sequenceChecksum,\n",
    "  entryID,\n",
    "  CONCAT('gs://public-datasets-deepmind-alphafold-v4/',entryID, '-model_v', latestVersion, '.cif') as cif,\n",
    "  CONCAT('gs://public-datasets-deepmind-alphafold-v4/',entryID, '-confidence_v', latestVersion, '.json') as confidence,\n",
    "  CONCAT('gs://public-datasets-deepmind-alphafold-v4/',entryID, '-predicted_aligned_error_v', latestVersion, '.json') as err\n",
    "FROM bigquery-public-data.deepmind_alphafold.metadata\n",
    "WHERE sequenceChecksum in ('{crc64s}')\n",
    "\"\"\"\n",
    "print(sql[:200])"
   ]
  },
  {
   "cell_type": "code",
   "execution_count": null,
   "id": "08a7b6d7",
   "metadata": {
    "papermill": {
     "duration": 0.013213,
     "end_time": "2022-12-02T17:25:52.330588",
     "exception": false,
     "start_time": "2022-12-02T17:25:52.317375",
     "status": "completed"
    },
    "tags": []
   },
   "outputs": [],
   "source": [
    "with open('metadata_fireprot_wildtypes.sql', 'w+') as f:\n",
    "    f.write(sql)"
   ]
  },
  {
   "cell_type": "markdown",
   "id": "3f38b2cf",
   "metadata": {
    "papermill": {
     "duration": 0.00338,
     "end_time": "2022-12-02T17:25:52.337649",
     "exception": false,
     "start_time": "2022-12-02T17:25:52.334269",
     "status": "completed"
    },
    "tags": []
   },
   "source": [
    "Use BigQuery:\n",
    "\n",
    "https://console.cloud.google.com/bigquery?sq=264715149975:fb373d507b5645f3a7543f1e19315807&project=powerful-anchor-228512&ws=!1m9!1m4!1m3!1spowerful-anchor-228512!2sbquxjob_4322957e_184ce4bdfe3!3sUS!1m3!8m2!1s264715149975!2sfb373d507b5645f3a7543f1e19315807"
   ]
  },
  {
   "cell_type": "code",
   "execution_count": null,
   "id": "f786b492",
   "metadata": {
    "papermill": {
     "duration": 0.07175,
     "end_time": "2022-12-02T17:25:52.413145",
     "exception": false,
     "start_time": "2022-12-02T17:25:52.341395",
     "status": "completed"
    },
    "tags": []
   },
   "outputs": [],
   "source": [
    "fireprot_crc64_cif = pd.read_csv('/kaggle/input/fireprot-crc64-cif/fireprot_wildtypes_crc64_cif.csv')\n",
    "fireprot_crc64_cif"
   ]
  },
  {
   "cell_type": "code",
   "execution_count": null,
   "id": "b2137c25",
   "metadata": {
    "papermill": {
     "duration": 0.014158,
     "end_time": "2022-12-02T17:25:52.431477",
     "exception": false,
     "start_time": "2022-12-02T17:25:52.417319",
     "status": "completed"
    },
    "tags": []
   },
   "outputs": [],
   "source": [
    "cifs = ' '.join(fireprot_crc64_cif.cif)"
   ]
  },
  {
   "cell_type": "markdown",
   "id": "b552367d",
   "metadata": {
    "papermill": {
     "duration": 0.003716,
     "end_time": "2022-12-02T17:25:52.439336",
     "exception": false,
     "start_time": "2022-12-02T17:25:52.435620",
     "status": "completed"
    },
    "tags": []
   },
   "source": [
    "## Run locally following command \n",
    "\n",
    "> ! gsutil cp  $cifs /"
   ]
  },
  {
   "cell_type": "code",
   "execution_count": null,
   "id": "9188aed4",
   "metadata": {
    "papermill": {
     "duration": 0.003952,
     "end_time": "2022-12-02T17:25:52.447168",
     "exception": false,
     "start_time": "2022-12-02T17:25:52.443216",
     "status": "completed"
    },
    "tags": []
   },
   "outputs": [],
   "source": []
  },
  {
   "cell_type": "code",
   "execution_count": null,
   "id": "cb7399a3",
   "metadata": {
    "papermill": {
     "duration": 0.003547,
     "end_time": "2022-12-02T17:25:52.454627",
     "exception": false,
     "start_time": "2022-12-02T17:25:52.451080",
     "status": "completed"
    },
    "tags": []
   },
   "outputs": [],
   "source": []
  }
 ],
 "metadata": {
  "kernelspec": {
   "display_name": "Python 3",
   "language": "python",
   "name": "python3"
  },
  "language_info": {
   "codemirror_mode": {
    "name": "ipython",
    "version": 3
   },
   "file_extension": ".py",
   "mimetype": "text/x-python",
   "name": "python",
   "nbconvert_exporter": "python",
   "pygments_lexer": "ipython3",
   "version": "3.7.12"
  },
  "papermill": {
   "default_parameters": {},
   "duration": 23.562019,
   "end_time": "2022-12-02T17:25:53.181008",
   "environment_variables": {},
   "exception": null,
   "input_path": "__notebook__.ipynb",
   "output_path": "__notebook__.ipynb",
   "parameters": {},
   "start_time": "2022-12-02T17:25:29.618989",
   "version": "2.3.4"
  }
 },
 "nbformat": 4,
 "nbformat_minor": 5
}
