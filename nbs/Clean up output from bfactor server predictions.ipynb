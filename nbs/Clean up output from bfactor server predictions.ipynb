{
 "cells": [
  {
   "cell_type": "code",
   "execution_count": null,
   "id": "b6d6eb44",
   "metadata": {},
   "outputs": [],
   "source": [
    "import pandas as pd\n",
    "from glob import glob\n",
    "\n",
    "def clean_df(df_path):\n",
    "    # df = pd.read_csv(df_path, header=None, delimiter=r\"\\s+\", skiprows=list(range(0, 3)), index_col=[0],\n",
    "    #                 names=['Residue', 'tmp1', 'tmp2', 'Chain', 'tmp3', 'tmp4', 'Backbone', 'Side chain', 'All'])\n",
    "    df = pd.read_csv(df_path, header=None, delimiter=r\"\\s+\", skiprows=list(range(0, 3)), index_col=['tmp0'],\n",
    "                    names=['tmp0', 'Residue', 'tmp1', 'tmp2', 'Chain', 'tmp3', 'Backbone', 'Side chain', 'All']).reset_index(drop=True)\n",
    "    df['empty?'] = df['All'].isna()\n",
    "    # calculate cumulative sum; will be >= 0 at/after FIRST bad value\n",
    "    df['accum_empty'] = df['empty?'].cumsum()\n",
    "    # boolean mask, for update\n",
    "    mask = df['accum_empty'] == 0\n",
    "    df = df[mask]\n",
    "\n",
    "    df = df.drop(columns=['tmp1', 'tmp2', 'tmp3', 'tmp4', 'empty?', 'accum_empty'], errors='ignore')\n",
    "\n",
    "    try:\n",
    "        df.Chain = df.Chain.map(lambda x: x.split(')')[1])\n",
    "    except: \n",
    "        pass\n",
    "    # return df\n",
    "    if len(df) > 0:\n",
    "        df.to_csv(df_path, index=False)\n"
   ]
  },
  {
   "cell_type": "code",
   "execution_count": null,
   "id": "7d11d6a3",
   "metadata": {},
   "outputs": [],
   "source": [
    "# df_path = 'input/kaggle-train-dataset/bfactor/AF-A0A0Q0UHS0-F1-model_v3.pdb.txt'\n",
    "# df_path = 'input/fireprot-external-dataset/bfactor/AF-A0A0A0FAI2-F1-model_v4.cif.pdb.txt'\n",
    "# clean_df(df_path)"
   ]
  },
  {
   "cell_type": "code",
   "execution_count": null,
   "id": "92066216",
   "metadata": {},
   "outputs": [],
   "source": [
    "# fpath = \"input/jin-external-dataset/bfactor/1A7C.pdb.txt\"\n",
    "# fpath = \"input/jin-external-dataset/bfactor\"\n",
    "# fpath = 'input/kaggle-train-dataset/bfactor'\n",
    "# fpath = 'input/kaggle-test-dataset/bfactor'\n",
    "# fpath = 'input/fireprot-external-dataset/bfactor'\n",
    "fpath = 'input/zenodo-external-dataset/bfactor'\n",
    "\n"
   ]
  },
  {
   "cell_type": "code",
   "execution_count": null,
   "id": "464891cf",
   "metadata": {},
   "outputs": [],
   "source": [
    "for df_path in glob(f'{fpath}/*.txt'):\n",
    "    try:\n",
    "        clean_df(df_path)\n",
    "    except:\n",
    "        print (df_path)\n"
   ]
  },
  {
   "cell_type": "code",
   "execution_count": null,
   "id": "c0787da3",
   "metadata": {},
   "outputs": [],
   "source": []
  }
 ],
 "metadata": {
  "hide_input": false,
  "kernelspec": {
   "display_name": "Python 3.7.8 ('base')",
   "language": "python",
   "name": "python3"
  },
  "language_info": {
   "codemirror_mode": {
    "name": "ipython",
    "version": 3
   },
   "file_extension": ".py",
   "mimetype": "text/x-python",
   "name": "python",
   "nbconvert_exporter": "python",
   "pygments_lexer": "ipython3",
   "version": "3.7.8"
  },
  "vscode": {
   "interpreter": {
    "hash": "40d3a090f54c6569ab1632332b64b2c03c39dcf918b08424e98f38b5ae0af88f"
   }
  }
 },
 "nbformat": 4,
 "nbformat_minor": 5
}
