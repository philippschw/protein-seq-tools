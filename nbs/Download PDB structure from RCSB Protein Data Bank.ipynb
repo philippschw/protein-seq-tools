{
 "cells": [
  {
   "cell_type": "code",
   "execution_count": null,
   "id": "3a10a2d2",
   "metadata": {
    "papermill": {
     "duration": 0.022941,
     "end_time": "2022-12-02T17:25:51.717862",
     "exception": false,
     "start_time": "2022-12-02T17:25:51.694921",
     "status": "completed"
    },
    "tags": []
   },
   "outputs": [],
   "source": [
    "\n",
    "import pandas as pd\n",
    "from pathlib import Path\n",
    "from glob import glob\n",
    "import yaml\n",
    "import re"
   ]
  },
  {
   "attachments": {},
   "cell_type": "markdown",
   "id": "2fc328d4",
   "metadata": {},
   "source": [
    "Downloaded PDB\n",
    "- dataset_S140\n",
    "- pucci-proteins-appendixtable1\n",
    "- Q3421\n",
    "- S2648\n",
    "- Q3214\n",
    "- Q1744\n"
   ]
  },
  {
   "cell_type": "code",
   "execution_count": null,
   "id": "18f5c77e",
   "metadata": {},
   "outputs": [],
   "source": [
    "- myoglobin\n",
    "- p53data\n",
    "- ssymmutants\n",
    "\n",
    "- vb1432\n",
    "- broomdataset"
   ]
  },
  {
   "cell_type": "code",
   "execution_count": null,
   "id": "a421ccbb",
   "metadata": {},
   "outputs": [],
   "source": [
    "df = pd.read_csv('/Users/philippschwarz/Documents/BIXInitiatives/BIotherapeutics/input/broomdataset/csv/SSYM.csv')"
   ]
  },
  {
   "cell_type": "code",
   "execution_count": null,
   "id": "c5247de9",
   "metadata": {},
   "outputs": [],
   "source": [
    "df"
   ]
  },
  {
   "cell_type": "code",
   "execution_count": null,
   "id": "426b6c71",
   "metadata": {},
   "outputs": [],
   "source": [
    "from Bio.PDB import *\n",
    "import Bio\n",
    "from Bio.PDB import PDBList\n",
    "ppdb0 = []\n",
    "ppdb1 = []\n",
    "pdbl = PDBList()\n",
    "path = '/Users/philippschwarz/Documents/BIXInitiatives/BIotherapeutics/input/ssymmutants/pdb/'\n",
    "PDBlist2 = df.PDB.str[:4].dropna().str.upper().unique()\n",
    "for i in PDBlist2:\n",
    "    ppdb0.append(pdbl.retrieve_pdb_file(i, file_format ='pdb', pdir=path))"
   ]
  },
  {
   "cell_type": "code",
   "execution_count": null,
   "id": "10d79838",
   "metadata": {},
   "outputs": [],
   "source": [
    "source = [Path(f).stem for f in glob(path+'*.ent')]"
   ]
  },
  {
   "cell_type": "code",
   "execution_count": null,
   "id": "5975678b",
   "metadata": {},
   "outputs": [],
   "source": [
    "source"
   ]
  },
  {
   "cell_type": "code",
   "execution_count": null,
   "id": "3fee25bb",
   "metadata": {},
   "outputs": [],
   "source": [
    "import os\n",
    "for src in source:\n",
    "    os.rename(path+src+'.ent', path+src[3:]+'.pdb')"
   ]
  },
  {
   "cell_type": "code",
   "execution_count": null,
   "id": "6adc4e2b",
   "metadata": {},
   "outputs": [],
   "source": []
  }
 ],
 "metadata": {
  "kernelspec": {
   "display_name": "alphafold",
   "language": "python",
   "name": "python3"
  },
  "language_info": {
   "codemirror_mode": {
    "name": "ipython",
    "version": 3
   },
   "file_extension": ".py",
   "mimetype": "text/x-python",
   "name": "python",
   "nbconvert_exporter": "python",
   "pygments_lexer": "ipython3",
   "version": "3.10.6"
  },
  "papermill": {
   "default_parameters": {},
   "duration": 23.562019,
   "end_time": "2022-12-02T17:25:53.181008",
   "environment_variables": {},
   "exception": null,
   "input_path": "__notebook__.ipynb",
   "output_path": "__notebook__.ipynb",
   "parameters": {},
   "start_time": "2022-12-02T17:25:29.618989",
   "version": "2.3.4"
  },
  "vscode": {
   "interpreter": {
    "hash": "ac60f1ea441793e1b33bb91a086b1a6b76c08a5f133f9bc4ea9cb8e665a5d710"
   }
  }
 },
 "nbformat": 4,
 "nbformat_minor": 5
}
